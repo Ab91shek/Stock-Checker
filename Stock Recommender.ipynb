{
 "cells": [
  {
   "cell_type": "code",
   "execution_count": 2,
   "id": "731b0acc-3d97-4e30-8bd8-9c433dcb6764",
   "metadata": {},
   "outputs": [
    {
     "name": "stdout",
     "output_type": "stream",
     "text": [
      "Requirement already satisfied: yfinance in c:\\users\\abali\\anaconda3\\lib\\site-packages (0.2.65)\n",
      "Requirement already satisfied: pandas>=1.3.0 in c:\\users\\abali\\anaconda3\\lib\\site-packages (from yfinance) (2.2.2)\n",
      "Requirement already satisfied: numpy>=1.16.5 in c:\\users\\abali\\anaconda3\\lib\\site-packages (from yfinance) (1.26.4)\n",
      "Requirement already satisfied: requests>=2.31 in c:\\users\\abali\\anaconda3\\lib\\site-packages (from yfinance) (2.32.3)\n",
      "Requirement already satisfied: multitasking>=0.0.7 in c:\\users\\abali\\anaconda3\\lib\\site-packages (from yfinance) (0.0.12)\n",
      "Requirement already satisfied: platformdirs>=2.0.0 in c:\\users\\abali\\anaconda3\\lib\\site-packages (from yfinance) (3.10.0)\n",
      "Requirement already satisfied: pytz>=2022.5 in c:\\users\\abali\\anaconda3\\lib\\site-packages (from yfinance) (2024.1)\n",
      "Requirement already satisfied: frozendict>=2.3.4 in c:\\users\\abali\\anaconda3\\lib\\site-packages (from yfinance) (2.4.2)\n",
      "Requirement already satisfied: peewee>=3.16.2 in c:\\users\\abali\\anaconda3\\lib\\site-packages (from yfinance) (3.18.2)\n",
      "Requirement already satisfied: beautifulsoup4>=4.11.1 in c:\\users\\abali\\anaconda3\\lib\\site-packages (from yfinance) (4.12.3)\n",
      "Requirement already satisfied: curl_cffi>=0.7 in c:\\users\\abali\\anaconda3\\lib\\site-packages (from yfinance) (0.13.0)\n",
      "Requirement already satisfied: protobuf>=3.19.0 in c:\\users\\abali\\anaconda3\\lib\\site-packages (from yfinance) (4.25.3)\n",
      "Requirement already satisfied: websockets>=13.0 in c:\\users\\abali\\anaconda3\\lib\\site-packages (from yfinance) (15.0.1)\n",
      "Requirement already satisfied: soupsieve>1.2 in c:\\users\\abali\\anaconda3\\lib\\site-packages (from beautifulsoup4>=4.11.1->yfinance) (2.5)\n",
      "Requirement already satisfied: cffi>=1.12.0 in c:\\users\\abali\\anaconda3\\lib\\site-packages (from curl_cffi>=0.7->yfinance) (1.17.1)\n",
      "Requirement already satisfied: certifi>=2024.2.2 in c:\\users\\abali\\anaconda3\\lib\\site-packages (from curl_cffi>=0.7->yfinance) (2025.4.26)\n",
      "Requirement already satisfied: python-dateutil>=2.8.2 in c:\\users\\abali\\anaconda3\\lib\\site-packages (from pandas>=1.3.0->yfinance) (2.9.0.post0)\n",
      "Requirement already satisfied: tzdata>=2022.7 in c:\\users\\abali\\anaconda3\\lib\\site-packages (from pandas>=1.3.0->yfinance) (2023.3)\n",
      "Requirement already satisfied: charset-normalizer<4,>=2 in c:\\users\\abali\\anaconda3\\lib\\site-packages (from requests>=2.31->yfinance) (3.3.2)\n",
      "Requirement already satisfied: idna<4,>=2.5 in c:\\users\\abali\\anaconda3\\lib\\site-packages (from requests>=2.31->yfinance) (3.7)\n",
      "Requirement already satisfied: urllib3<3,>=1.21.1 in c:\\users\\abali\\anaconda3\\lib\\site-packages (from requests>=2.31->yfinance) (2.2.3)\n",
      "Requirement already satisfied: pycparser in c:\\users\\abali\\anaconda3\\lib\\site-packages (from cffi>=1.12.0->curl_cffi>=0.7->yfinance) (2.21)\n",
      "Requirement already satisfied: six>=1.5 in c:\\users\\abali\\anaconda3\\lib\\site-packages (from python-dateutil>=2.8.2->pandas>=1.3.0->yfinance) (1.16.0)\n"
     ]
    }
   ],
   "source": [
    "!pip install yfinance"
   ]
  },
  {
   "cell_type": "code",
   "execution_count": 3,
   "id": "5be2871a-631f-486c-8457-203ef7eb7620",
   "metadata": {},
   "outputs": [],
   "source": [
    "import pandas as pd\n",
    "import yfinance as yf\n",
    "from datetime import datetime\n",
    "import matplotlib.pyplot as plt"
   ]
  },
  {
   "cell_type": "code",
   "execution_count": 4,
   "id": "9171a483-706b-4714-b35f-687c824c427f",
   "metadata": {},
   "outputs": [
    {
     "name": "stdin",
     "output_type": "stream",
     "text": [
      "Enter stock symbol (e.g., RELIANCE, TCS, INFY):  RPOWER\n",
      "Enter exchange (NS for NSE, BO for BSE):  NS\n",
      "Enter start date (YYYY-MM-DD):  2025-01-01\n"
     ]
    },
    {
     "name": "stderr",
     "output_type": "stream",
     "text": [
      "C:\\Users\\abali\\AppData\\Local\\Temp\\ipykernel_23612\\915661245.py:7: FutureWarning: YF.download() has changed argument auto_adjust default to True\n",
      "  data = yf.download(ticker, start=start_date, end=end_date)\n",
      "[*********************100%***********************]  1 of 1 completed\n"
     ]
    }
   ],
   "source": [
    "symbol = input(\"Enter stock symbol (e.g., RELIANCE, TCS, INFY): \").upper()\n",
    "exchange = input(\"Enter exchange (NS for NSE, BO for BSE): \").upper()\n",
    "ticker = f\"{symbol}.{exchange}\"\n",
    "\n",
    "start_date = input(\"Enter start date (YYYY-MM-DD): \")\n",
    "end_date = datetime.today().strftime('%Y-%m-%d')\n",
    "data = yf.download(ticker, start=start_date, end=end_date)"
   ]
  },
  {
   "cell_type": "code",
   "execution_count": 5,
   "id": "b0dd357a-4598-494b-bc14-2fea378e4053",
   "metadata": {},
   "outputs": [
    {
     "name": "stdout",
     "output_type": "stream",
     "text": [
      "\n",
      "Fundamental Metrics:\n",
      "EPS: 7.55\n",
      "P/E Ratio: 5.94702\n",
      "ROE: None\n",
      "Debt-to-Equity: 92.752\n"
     ]
    }
   ],
   "source": [
    "stock = yf.Ticker(ticker)\n",
    "\n",
    "# Fetch fundamentals\n",
    "eps = stock.info.get(\"trailingEps\", None)            # Earnings per Share\n",
    "pe_ratio = stock.info.get(\"trailingPE\", None)        # Price to Earnings ratio\n",
    "roe = stock.info.get(\"returnOnEquity\", None)         # Return on Equity (fraction, e.g., 0.18 = 18%)\n",
    "de_ratio = stock.info.get(\"debtToEquity\", None)      # Debt-to-Equity ratio\n",
    "\n",
    "print(\"\\nFundamental Metrics:\")\n",
    "print(f\"EPS: {eps}\")\n",
    "print(f\"P/E Ratio: {pe_ratio}\")\n",
    "print(f\"ROE: {roe}\")\n",
    "print(f\"Debt-to-Equity: {de_ratio}\")"
   ]
  },
  {
   "cell_type": "code",
   "execution_count": 6,
   "id": "33bc975f-e8b3-4bd1-b9c3-469fcc0abe2f",
   "metadata": {},
   "outputs": [
    {
     "name": "stdout",
     "output_type": "stream",
     "text": [
      "\n",
      "Latest Technical Indicators:\n",
      "50-day MA: 57.47499977111816\n",
      "200-day MA: nan\n",
      "RSI: 48.95508833849141\n"
     ]
    }
   ],
   "source": [
    "# --- Moving Averages ---\n",
    "data[\"MA50\"] = data[\"Close\"].rolling(50).mean()\n",
    "data[\"MA200\"] = data[\"Close\"].rolling(200).mean()\n",
    "\n",
    "# --- RSI Calculation ---\n",
    "delta = data[\"Close\"].diff()\n",
    "gain = (delta.where(delta > 0, 0)).rolling(14).mean()\n",
    "loss = (-delta.where(delta < 0, 0)).rolling(14).mean()\n",
    "\n",
    "rs = gain / loss\n",
    "data[\"RSI\"] = 100 - (100 / (1 + rs))\n",
    "\n",
    "print(\"\\nLatest Technical Indicators:\")\n",
    "print(f\"50-day MA: {data['MA50'].iloc[-1]}\")\n",
    "print(f\"200-day MA: {data['MA200'].iloc[-1]}\")\n",
    "print(f\"RSI: {data['RSI'].iloc[-1]}\")"
   ]
  },
  {
   "cell_type": "code",
   "execution_count": 23,
   "id": "faa262a6-a68f-404d-b205-3e36f11375d3",
   "metadata": {},
   "outputs": [
    {
     "name": "stdout",
     "output_type": "stream",
     "text": [
      "52-week high/low:\n",
      "52-Week High: 260.1\n",
      "52-Week Low: 169.21\n",
      "current_price 44.72999954223633\n"
     ]
    }
   ],
   "source": [
    "# 52-week high/low are available in .info\n",
    "ticker_2 = yf.Ticker(\"AAPL\")\n",
    "\n",
    "high_52w = ticker_2.info.get(\"fiftyTwoWeekHigh\")\n",
    "low_52w = ticker_2.info.get(\"fiftyTwoWeekLow\")\n",
    "current_price = data[\"Close\"].iloc[-1].item()\n",
    "\n",
    "print(\"52-week high/low:\")\n",
    "print(\"52-Week High:\", high_52w)\n",
    "print(\"52-Week Low:\", low_52w)\n",
    "print(\"current_price\", current_price)"
   ]
  },
  {
   "cell_type": "code",
   "execution_count": 12,
   "id": "2f0e58e2-d75d-4f62-910a-44687567a1cd",
   "metadata": {},
   "outputs": [
    {
     "name": "stdout",
     "output_type": "stream",
     "text": [
      "Revenue Growth %: 9.6\n"
     ]
    }
   ],
   "source": [
    "# Revenue growth (yearly) is available in .info\n",
    "rev_growth = ticker_2.info.get(\"revenueGrowth\")   # usually as decimal (0.12 = 12%)\n",
    "if rev_growth:\n",
    "    rev_growth = rev_growth * 100   # convert to %\n",
    "    \n",
    "print(\"Revenue Growth %:\", rev_growth)"
   ]
  },
  {
   "cell_type": "code",
   "execution_count": 13,
   "id": "f31fe6d8-aa8f-429d-b957-c41f2adb1784",
   "metadata": {},
   "outputs": [
    {
     "name": "stdout",
     "output_type": "stream",
     "text": [
      "                                                      2025-06-30  \\\n",
      "Tax Effect Of Unusual Items                         0.000000e+00   \n",
      "Tax Rate For Calcs                                  1.639970e-01   \n",
      "Normalized EBITDA                                   3.103200e+10   \n",
      "Net Income From Continuing Operation Net Minori...  2.343400e+10   \n",
      "Reconciled Depreciation                             2.830000e+09   \n",
      "Reconciled Cost Of Revenue                          5.031800e+10   \n",
      "EBITDA                                              3.103200e+10   \n",
      "EBIT                                                2.820200e+10   \n",
      "Normalized Income                                   2.343400e+10   \n",
      "Net Income From Continuing And Discontinued Ope...  2.343400e+10   \n",
      "Total Expenses                                      6.583400e+10   \n",
      "Total Operating Income As Reported                  2.820200e+10   \n",
      "Diluted Average Shares                              1.494818e+10   \n",
      "Basic Average Shares                                1.490289e+10   \n",
      "Diluted EPS                                         1.570000e+00   \n",
      "Basic EPS                                           1.570000e+00   \n",
      "Diluted NI Availto Com Stockholders                 2.343400e+10   \n",
      "Net Income Common Stockholders                      2.343400e+10   \n",
      "Net Income                                          2.343400e+10   \n",
      "Net Income Including Noncontrolling Interests       2.343400e+10   \n",
      "Net Income Continuous Operations                    2.343400e+10   \n",
      "Tax Provision                                       4.597000e+09   \n",
      "Pretax Income                                       2.803100e+10   \n",
      "Other Income Expense                               -1.710000e+08   \n",
      "Other Non Operating Income Expenses                -1.710000e+08   \n",
      "Operating Income                                    2.820200e+10   \n",
      "Operating Expense                                   1.551600e+10   \n",
      "Research And Development                            8.866000e+09   \n",
      "Selling General And Administration                  6.650000e+09   \n",
      "Gross Profit                                        4.371800e+10   \n",
      "Cost Of Revenue                                     5.031800e+10   \n",
      "Total Revenue                                       9.403600e+10   \n",
      "Operating Revenue                                   9.403600e+10   \n",
      "\n",
      "                                                      2025-03-31  \\\n",
      "Tax Effect Of Unusual Items                         0.000000e+00   \n",
      "Tax Rate For Calcs                                  1.550000e-01   \n",
      "Normalized EBITDA                                   3.225000e+10   \n",
      "Net Income From Continuing Operation Net Minori...  2.478000e+10   \n",
      "Reconciled Depreciation                             2.661000e+09   \n",
      "Reconciled Cost Of Revenue                          5.049200e+10   \n",
      "EBITDA                                              3.225000e+10   \n",
      "EBIT                                                2.958900e+10   \n",
      "Normalized Income                                   2.478000e+10   \n",
      "Net Income From Continuing And Discontinued Ope...  2.478000e+10   \n",
      "Total Expenses                                      6.577000e+10   \n",
      "Total Operating Income As Reported                  2.958900e+10   \n",
      "Diluted Average Shares                              1.505613e+10   \n",
      "Basic Average Shares                                1.499408e+10   \n",
      "Diluted EPS                                         1.650000e+00   \n",
      "Basic EPS                                           1.650000e+00   \n",
      "Diluted NI Availto Com Stockholders                 2.478000e+10   \n",
      "Net Income Common Stockholders                      2.478000e+10   \n",
      "Net Income                                          2.478000e+10   \n",
      "Net Income Including Noncontrolling Interests       2.478000e+10   \n",
      "Net Income Continuous Operations                    2.478000e+10   \n",
      "Tax Provision                                       4.530000e+09   \n",
      "Pretax Income                                       2.931000e+10   \n",
      "Other Income Expense                               -2.790000e+08   \n",
      "Other Non Operating Income Expenses                -2.790000e+08   \n",
      "Operating Income                                    2.958900e+10   \n",
      "Operating Expense                                   1.527800e+10   \n",
      "Research And Development                            8.550000e+09   \n",
      "Selling General And Administration                  6.728000e+09   \n",
      "Gross Profit                                        4.486700e+10   \n",
      "Cost Of Revenue                                     5.049200e+10   \n",
      "Total Revenue                                       9.535900e+10   \n",
      "Operating Revenue                                   9.535900e+10   \n",
      "\n",
      "                                                      2024-12-31  \\\n",
      "Tax Effect Of Unusual Items                         0.000000e+00   \n",
      "Tax Rate For Calcs                                  1.470000e-01   \n",
      "Normalized EBITDA                                   4.591200e+10   \n",
      "Net Income From Continuing Operation Net Minori...  3.633000e+10   \n",
      "Reconciled Depreciation                             3.080000e+09   \n",
      "Reconciled Cost Of Revenue                          6.602500e+10   \n",
      "EBITDA                                              4.591200e+10   \n",
      "EBIT                                                4.283200e+10   \n",
      "Normalized Income                                   3.633000e+10   \n",
      "Net Income From Continuing And Discontinued Ope...  3.633000e+10   \n",
      "Total Expenses                                      8.146800e+10   \n",
      "Total Operating Income As Reported                  4.283200e+10   \n",
      "Diluted Average Shares                              1.515086e+10   \n",
      "Basic Average Shares                                1.508172e+10   \n",
      "Diluted EPS                                         2.400000e+00   \n",
      "Basic EPS                                           2.410000e+00   \n",
      "Diluted NI Availto Com Stockholders                 3.633000e+10   \n",
      "Net Income Common Stockholders                      3.633000e+10   \n",
      "Net Income                                          3.633000e+10   \n",
      "Net Income Including Noncontrolling Interests       3.633000e+10   \n",
      "Net Income Continuous Operations                    3.633000e+10   \n",
      "Tax Provision                                       6.254000e+09   \n",
      "Pretax Income                                       4.258400e+10   \n",
      "Other Income Expense                               -2.480000e+08   \n",
      "Other Non Operating Income Expenses                -2.480000e+08   \n",
      "Operating Income                                    4.283200e+10   \n",
      "Operating Expense                                   1.544300e+10   \n",
      "Research And Development                            8.268000e+09   \n",
      "Selling General And Administration                  7.175000e+09   \n",
      "Gross Profit                                        5.827500e+10   \n",
      "Cost Of Revenue                                     6.602500e+10   \n",
      "Total Revenue                                       1.243000e+11   \n",
      "Operating Revenue                                   1.243000e+11   \n",
      "\n",
      "                                                      2024-09-30    2024-06-30  \n",
      "Tax Effect Of Unusual Items                         0.000000e+00  0.000000e+00  \n",
      "Tax Rate For Calcs                                  2.100000e-01  1.590000e-01  \n",
      "Normalized EBITDA                                   3.250200e+10  2.820200e+10  \n",
      "Net Income From Continuing Operation Net Minori...  1.473600e+10  2.144800e+10  \n",
      "Reconciled Depreciation                             2.911000e+09  2.850000e+09  \n",
      "Reconciled Cost Of Revenue                          5.105100e+10  4.609900e+10  \n",
      "EBITDA                                              3.250200e+10  2.820200e+10  \n",
      "EBIT                                                2.959100e+10  2.535200e+10  \n",
      "Normalized Income                                   1.473600e+10  2.144800e+10  \n",
      "Net Income From Continuing And Discontinued Ope...  1.473600e+10  2.144800e+10  \n",
      "Total Expenses                                      6.533900e+10  6.042500e+10  \n",
      "Total Operating Income As Reported                  2.959100e+10  2.535200e+10  \n",
      "Diluted Average Shares                              1.524285e+10  1.534818e+10  \n",
      "Basic Average Shares                                1.517199e+10  1.528752e+10  \n",
      "Diluted EPS                                         9.700000e-01  1.400000e+00  \n",
      "Basic EPS                                           9.700000e-01  1.400000e+00  \n",
      "Diluted NI Availto Com Stockholders                 1.473600e+10  2.144800e+10  \n",
      "Net Income Common Stockholders                      1.473600e+10  2.144800e+10  \n",
      "Net Income                                          1.473600e+10  2.144800e+10  \n",
      "Net Income Including Noncontrolling Interests       1.473600e+10  2.144800e+10  \n",
      "Net Income Continuous Operations                    1.473600e+10  2.144800e+10  \n",
      "Tax Provision                                       1.487400e+10  4.046000e+09  \n",
      "Pretax Income                                       2.961000e+10  2.549400e+10  \n",
      "Other Income Expense                                1.900000e+07  1.420000e+08  \n",
      "Other Non Operating Income Expenses                 1.900000e+07  1.420000e+08  \n",
      "Operating Income                                    2.959100e+10  2.535200e+10  \n",
      "Operating Expense                                   1.428800e+10  1.432600e+10  \n",
      "Research And Development                            7.765000e+09  8.006000e+09  \n",
      "Selling General And Administration                  6.523000e+09  6.320000e+09  \n",
      "Gross Profit                                        4.387900e+10  3.967800e+10  \n",
      "Cost Of Revenue                                     5.105100e+10  4.609900e+10  \n",
      "Total Revenue                                       9.493000e+10  8.577700e+10  \n",
      "Operating Revenue                                   9.493000e+10  8.577700e+10  \n",
      "Profit Growth % (QoQ): -5.4317998385795\n"
     ]
    },
    {
     "name": "stderr",
     "output_type": "stream",
     "text": [
      "C:\\Users\\abali\\AppData\\Local\\Temp\\ipykernel_23612\\495297547.py:9: FutureWarning: Series.__getitem__ treating keys as positions is deprecated. In a future version, integer keys will always be treated as labels (consistent with DataFrame behavior). To access a value by position, use `ser.iloc[pos]`\n",
      "  profit_growth = ((net_income[0] - net_income[1]) / net_income[1]) * 100\n"
     ]
    }
   ],
   "source": [
    "# Quarterly financials (rows = line items, cols = periods)\n",
    "fin = ticker_2.quarterly_financials\n",
    "print(fin)\n",
    "\n",
    "# Example: Net Income growth (QoQ)\n",
    "net_income = fin.loc[\"Net Income\"]\n",
    "\n",
    "if len(net_income) >= 2:\n",
    "    profit_growth = ((net_income[0] - net_income[1]) / net_income[1]) * 100\n",
    "    print(\"Profit Growth % (QoQ):\", profit_growth)"
   ]
  },
  {
   "cell_type": "code",
   "execution_count": 14,
   "id": "76298c1d-0d61-46bb-a4db-1745d2e11c0b",
   "metadata": {},
   "outputs": [
    {
     "name": "stdout",
     "output_type": "stream",
     "text": [
      "Profit Growth % (YoY): -3.3599670086086912\n"
     ]
    },
    {
     "name": "stderr",
     "output_type": "stream",
     "text": [
      "C:\\Users\\abali\\AppData\\Local\\Temp\\ipykernel_23612\\168983890.py:5: FutureWarning: Series.__getitem__ treating keys as positions is deprecated. In a future version, integer keys will always be treated as labels (consistent with DataFrame behavior). To access a value by position, use `ser.iloc[pos]`\n",
      "  profit_growth_y = ((net_income_y[0] - net_income_y[1]) / net_income_y[1]) * 100\n"
     ]
    }
   ],
   "source": [
    "fin_y = ticker_2.financials\n",
    "net_income_y = fin_y.loc[\"Net Income\"]\n",
    "\n",
    "if len(net_income_y) >= 2:\n",
    "    profit_growth_y = ((net_income_y[0] - net_income_y[1]) / net_income_y[1]) * 100\n",
    "    print(\"Profit Growth % (YoY):\", profit_growth_y)"
   ]
  },
  {
   "cell_type": "code",
   "execution_count": 25,
   "id": "452e65f8-b1de-40e7-8118-ab27239530ee",
   "metadata": {},
   "outputs": [],
   "source": [
    "def evaluate_stock(eps, pe_ratio, roe, de_ratio, ma50, ma200, rsi, high_52w=None, low_52w=None, current_price=None, revenue_growth=None, profit_growth=None):\n",
    "    score = 0\n",
    "\n",
    "    # Fundamentals\n",
    "    if eps and eps > 0: score += 1\n",
    "    if pe_ratio and pe_ratio < 20: score += 1\n",
    "    if roe and roe > 0.15: score += 1\n",
    "    if de_ratio and de_ratio < 1: score += 1\n",
    "\n",
    "    # Technicals\n",
    "    if ma50 > ma200: score += 1\n",
    "    if rsi and rsi < 70 and rsi > 30: score += 1\n",
    "\n",
    "     # Price near 52-week high/low (good if closer to high than low)\n",
    "    if high_52w and low_52w and current_price:\n",
    "        if current_price > (low_52w + (0.75 * (high_52w - low_52w))):  \n",
    "            score += 1  \n",
    "\n",
    "    # Revenue Growth positive\n",
    "    if rev_growth and rev_growth > 0:  \n",
    "        score += 1  \n",
    "\n",
    "    # Profit Growth positive\n",
    "    if profit_growth and profit_growth > 0:  \n",
    "        score += 1  \n",
    "\n",
    "    # Final decision\n",
    "    if score >= 7:\n",
    "        return \" Strong Buy\"\n",
    "    elif score >= 5:\n",
    "        return \" Buy / Hold\"\n",
    "    else:\n",
    "        return \" Avoid / Weak\""
   ]
  },
  {
   "cell_type": "code",
   "execution_count": 26,
   "id": "c8f3ec41-cb72-4c7b-b55c-26d8f4a3638f",
   "metadata": {},
   "outputs": [
    {
     "name": "stdout",
     "output_type": "stream",
     "text": [
      "Final Recommendation:  Avoid / Weak\n"
     ]
    }
   ],
   "source": [
    "result = evaluate_stock(eps, pe_ratio, roe, de_ratio, data[\"MA50\"].iloc[-1], data[\"MA200\"].iloc[-1], data[\"RSI\"].iloc[-1], high_52w, low_52w, current_price,rev_growth, profit_growth)\n",
    "print(\"Final Recommendation:\", result)"
   ]
  }
 ],
 "metadata": {
  "kernelspec": {
   "display_name": "Python 3 (ipykernel)",
   "language": "python",
   "name": "python3"
  },
  "language_info": {
   "codemirror_mode": {
    "name": "ipython",
    "version": 3
   },
   "file_extension": ".py",
   "mimetype": "text/x-python",
   "name": "python",
   "nbconvert_exporter": "python",
   "pygments_lexer": "ipython3",
   "version": "3.12.7"
  }
 },
 "nbformat": 4,
 "nbformat_minor": 5
}
