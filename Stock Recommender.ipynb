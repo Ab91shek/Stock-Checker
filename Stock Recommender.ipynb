{
 "cells": [
  {
   "cell_type": "code",
   "execution_count": 1,
   "id": "731b0acc-3d97-4e30-8bd8-9c433dcb6764",
   "metadata": {},
   "outputs": [
    {
     "name": "stdout",
     "output_type": "stream",
     "text": [
      "Requirement already satisfied: yfinance in c:\\users\\abali\\anaconda3\\lib\\site-packages (0.2.65)\n",
      "Requirement already satisfied: pandas>=1.3.0 in c:\\users\\abali\\anaconda3\\lib\\site-packages (from yfinance) (2.2.2)\n",
      "Requirement already satisfied: numpy>=1.16.5 in c:\\users\\abali\\anaconda3\\lib\\site-packages (from yfinance) (1.26.4)\n",
      "Requirement already satisfied: requests>=2.31 in c:\\users\\abali\\anaconda3\\lib\\site-packages (from yfinance) (2.32.3)\n",
      "Requirement already satisfied: multitasking>=0.0.7 in c:\\users\\abali\\anaconda3\\lib\\site-packages (from yfinance) (0.0.12)\n",
      "Requirement already satisfied: platformdirs>=2.0.0 in c:\\users\\abali\\anaconda3\\lib\\site-packages (from yfinance) (3.10.0)\n",
      "Requirement already satisfied: pytz>=2022.5 in c:\\users\\abali\\anaconda3\\lib\\site-packages (from yfinance) (2024.1)\n",
      "Requirement already satisfied: frozendict>=2.3.4 in c:\\users\\abali\\anaconda3\\lib\\site-packages (from yfinance) (2.4.2)\n",
      "Requirement already satisfied: peewee>=3.16.2 in c:\\users\\abali\\anaconda3\\lib\\site-packages (from yfinance) (3.18.2)\n",
      "Requirement already satisfied: beautifulsoup4>=4.11.1 in c:\\users\\abali\\anaconda3\\lib\\site-packages (from yfinance) (4.12.3)\n",
      "Requirement already satisfied: curl_cffi>=0.7 in c:\\users\\abali\\anaconda3\\lib\\site-packages (from yfinance) (0.13.0)\n",
      "Requirement already satisfied: protobuf>=3.19.0 in c:\\users\\abali\\anaconda3\\lib\\site-packages (from yfinance) (4.25.3)\n",
      "Requirement already satisfied: websockets>=13.0 in c:\\users\\abali\\anaconda3\\lib\\site-packages (from yfinance) (15.0.1)\n",
      "Requirement already satisfied: soupsieve>1.2 in c:\\users\\abali\\anaconda3\\lib\\site-packages (from beautifulsoup4>=4.11.1->yfinance) (2.5)\n",
      "Requirement already satisfied: cffi>=1.12.0 in c:\\users\\abali\\anaconda3\\lib\\site-packages (from curl_cffi>=0.7->yfinance) (1.17.1)\n",
      "Requirement already satisfied: certifi>=2024.2.2 in c:\\users\\abali\\anaconda3\\lib\\site-packages (from curl_cffi>=0.7->yfinance) (2025.4.26)\n",
      "Requirement already satisfied: python-dateutil>=2.8.2 in c:\\users\\abali\\anaconda3\\lib\\site-packages (from pandas>=1.3.0->yfinance) (2.9.0.post0)\n",
      "Requirement already satisfied: tzdata>=2022.7 in c:\\users\\abali\\anaconda3\\lib\\site-packages (from pandas>=1.3.0->yfinance) (2023.3)\n",
      "Requirement already satisfied: charset-normalizer<4,>=2 in c:\\users\\abali\\anaconda3\\lib\\site-packages (from requests>=2.31->yfinance) (3.3.2)\n",
      "Requirement already satisfied: idna<4,>=2.5 in c:\\users\\abali\\anaconda3\\lib\\site-packages (from requests>=2.31->yfinance) (3.7)\n",
      "Requirement already satisfied: urllib3<3,>=1.21.1 in c:\\users\\abali\\anaconda3\\lib\\site-packages (from requests>=2.31->yfinance) (2.2.3)\n",
      "Requirement already satisfied: pycparser in c:\\users\\abali\\anaconda3\\lib\\site-packages (from cffi>=1.12.0->curl_cffi>=0.7->yfinance) (2.21)\n",
      "Requirement already satisfied: six>=1.5 in c:\\users\\abali\\anaconda3\\lib\\site-packages (from python-dateutil>=2.8.2->pandas>=1.3.0->yfinance) (1.16.0)\n"
     ]
    }
   ],
   "source": [
    "!pip install yfinance"
   ]
  },
  {
   "cell_type": "code",
   "execution_count": 2,
   "id": "5be2871a-631f-486c-8457-203ef7eb7620",
   "metadata": {},
   "outputs": [],
   "source": [
    "import pandas as pd\n",
    "import yfinance as yf\n",
    "import matplotlib.pyplot as plt"
   ]
  },
  {
   "cell_type": "code",
   "execution_count": 4,
   "id": "9171a483-706b-4714-b35f-687c824c427f",
   "metadata": {},
   "outputs": [
    {
     "name": "stdin",
     "output_type": "stream",
     "text": [
      "Enter stock symbol (e.g., RELIANCE, TCS, INFY):  reliance\n",
      "Enter exchange (NS for NSE, BO for BSE):  ns\n",
      "Enter start date (YYYY-MM-DD):  2024-06-01\n",
      "Enter end date (YYYY-MM-DD):  2025-06-30\n"
     ]
    },
    {
     "name": "stderr",
     "output_type": "stream",
     "text": [
      "C:\\Users\\abali\\AppData\\Local\\Temp\\ipykernel_10408\\2297851698.py:7: FutureWarning: YF.download() has changed argument auto_adjust default to True\n",
      "  data = yf.download(ticker, start=start_date, end=end_date)\n",
      "[*********************100%***********************]  1 of 1 completed\n"
     ]
    },
    {
     "data": {
      "text/html": [
       "<div>\n",
       "<style scoped>\n",
       "    .dataframe tbody tr th:only-of-type {\n",
       "        vertical-align: middle;\n",
       "    }\n",
       "\n",
       "    .dataframe tbody tr th {\n",
       "        vertical-align: top;\n",
       "    }\n",
       "\n",
       "    .dataframe thead tr th {\n",
       "        text-align: left;\n",
       "    }\n",
       "\n",
       "    .dataframe thead tr:last-of-type th {\n",
       "        text-align: right;\n",
       "    }\n",
       "</style>\n",
       "<table border=\"1\" class=\"dataframe\">\n",
       "  <thead>\n",
       "    <tr>\n",
       "      <th>Price</th>\n",
       "      <th>Close</th>\n",
       "      <th>High</th>\n",
       "      <th>Low</th>\n",
       "      <th>Open</th>\n",
       "      <th>Volume</th>\n",
       "    </tr>\n",
       "    <tr>\n",
       "      <th>Ticker</th>\n",
       "      <th>RELIANCE.NS</th>\n",
       "      <th>RELIANCE.NS</th>\n",
       "      <th>RELIANCE.NS</th>\n",
       "      <th>RELIANCE.NS</th>\n",
       "      <th>RELIANCE.NS</th>\n",
       "    </tr>\n",
       "    <tr>\n",
       "      <th>Date</th>\n",
       "      <th></th>\n",
       "      <th></th>\n",
       "      <th></th>\n",
       "      <th></th>\n",
       "      <th></th>\n",
       "    </tr>\n",
       "  </thead>\n",
       "  <tbody>\n",
       "    <tr>\n",
       "      <th>2024-06-03</th>\n",
       "      <td>1499.228516</td>\n",
       "      <td>1503.372890</td>\n",
       "      <td>1448.280652</td>\n",
       "      <td>1472.104322</td>\n",
       "      <td>21527942</td>\n",
       "    </tr>\n",
       "    <tr>\n",
       "      <th>2024-06-04</th>\n",
       "      <td>1387.009155</td>\n",
       "      <td>1487.043779</td>\n",
       "      <td>1349.313184</td>\n",
       "      <td>1487.043779</td>\n",
       "      <td>36709098</td>\n",
       "    </tr>\n",
       "    <tr>\n",
       "      <th>2024-06-05</th>\n",
       "      <td>1410.311646</td>\n",
       "      <td>1420.635260</td>\n",
       "      <td>1373.930892</td>\n",
       "      <td>1411.552462</td>\n",
       "      <td>17464890</td>\n",
       "    </tr>\n",
       "    <tr>\n",
       "      <th>2024-06-06</th>\n",
       "      <td>1421.081909</td>\n",
       "      <td>1433.092985</td>\n",
       "      <td>1410.907217</td>\n",
       "      <td>1424.456953</td>\n",
       "      <td>17855722</td>\n",
       "    </tr>\n",
       "    <tr>\n",
       "      <th>2024-06-07</th>\n",
       "      <td>1459.150024</td>\n",
       "      <td>1461.185011</td>\n",
       "      <td>1416.019306</td>\n",
       "      <td>1418.004612</td>\n",
       "      <td>18558696</td>\n",
       "    </tr>\n",
       "  </tbody>\n",
       "</table>\n",
       "</div>"
      ],
      "text/plain": [
       "Price             Close         High          Low         Open      Volume\n",
       "Ticker      RELIANCE.NS  RELIANCE.NS  RELIANCE.NS  RELIANCE.NS RELIANCE.NS\n",
       "Date                                                                      \n",
       "2024-06-03  1499.228516  1503.372890  1448.280652  1472.104322    21527942\n",
       "2024-06-04  1387.009155  1487.043779  1349.313184  1487.043779    36709098\n",
       "2024-06-05  1410.311646  1420.635260  1373.930892  1411.552462    17464890\n",
       "2024-06-06  1421.081909  1433.092985  1410.907217  1424.456953    17855722\n",
       "2024-06-07  1459.150024  1461.185011  1416.019306  1418.004612    18558696"
      ]
     },
     "execution_count": 4,
     "metadata": {},
     "output_type": "execute_result"
    }
   ],
   "source": [
    "symbol = input(\"Enter stock symbol (e.g., RELIANCE, TCS, INFY): \").upper()\n",
    "exchange = input(\"Enter exchange (NS for NSE, BO for BSE): \").upper()\n",
    "ticker = f\"{symbol}.{exchange}\"\n",
    "\n",
    "start_date = input(\"Enter start date (YYYY-MM-DD): \")\n",
    "end_date = input(\"Enter end date (YYYY-MM-DD): \")\n",
    "data = yf.download(ticker, start=start_date, end=end_date)\n",
    "\n",
    "data.head()"
   ]
  },
  {
   "cell_type": "code",
   "execution_count": 9,
   "id": "b0dd357a-4598-494b-bc14-2fea378e4053",
   "metadata": {},
   "outputs": [
    {
     "name": "stdout",
     "output_type": "stream",
     "text": [
      "\n",
      "Fundamental Metrics:\n",
      "EPS: 60.24\n",
      "P/E Ratio: 22.971447\n",
      "ROE: None\n",
      "Debt-to-Equity: 36.605\n"
     ]
    }
   ],
   "source": [
    "stock = yf.Ticker(ticker)\n",
    "\n",
    "# Fetch fundamentals\n",
    "eps = stock.info.get(\"trailingEps\", None)            # Earnings per Share\n",
    "pe_ratio = stock.info.get(\"trailingPE\", None)        # Price to Earnings ratio\n",
    "roe = stock.info.get(\"returnOnEquity\", None)         # Return on Equity (fraction, e.g., 0.18 = 18%)\n",
    "de_ratio = stock.info.get(\"debtToEquity\", None)      # Debt-to-Equity ratio\n",
    "\n",
    "print(\"\\nFundamental Metrics:\")\n",
    "print(f\"EPS: {eps}\")\n",
    "print(f\"P/E Ratio: {pe_ratio}\")\n",
    "print(f\"ROE: {roe}\")\n",
    "print(f\"Debt-to-Equity: {de_ratio}\")"
   ]
  },
  {
   "cell_type": "code",
   "execution_count": 10,
   "id": "33bc975f-e8b3-4bd1-b9c3-469fcc0abe2f",
   "metadata": {},
   "outputs": [
    {
     "name": "stdout",
     "output_type": "stream",
     "text": [
      "\n",
      "Latest Technical Indicators:\n",
      "50-day MA: nan\n",
      "200-day MA: nan\n",
      "RSI: nan\n"
     ]
    }
   ],
   "source": [
    "# --- Moving Averages ---\n",
    "data[\"MA50\"] = data[\"Close\"].rolling(50).mean()\n",
    "data[\"MA200\"] = data[\"Close\"].rolling(200).mean()\n",
    "\n",
    "# --- RSI Calculation ---\n",
    "delta = data[\"Close\"].diff()\n",
    "gain = (delta.where(delta > 0, 0)).rolling(14).mean()\n",
    "loss = (-delta.where(delta < 0, 0)).rolling(14).mean()\n",
    "\n",
    "rs = gain / loss\n",
    "data[\"RSI\"] = 100 - (100 / (1 + rs))\n",
    "\n",
    "print(\"\\nLatest Technical Indicators:\")\n",
    "print(f\"50-day MA: {data['MA50'].iloc[-1]}\")\n",
    "print(f\"200-day MA: {data['MA200'].iloc[-1]}\")\n",
    "print(f\"RSI: {data['RSI'].iloc[-1]}\")"
   ]
  },
  {
   "cell_type": "code",
   "execution_count": 11,
   "id": "452e65f8-b1de-40e7-8118-ab27239530ee",
   "metadata": {},
   "outputs": [],
   "source": [
    "def evaluate_stock(eps, pe_ratio, roe, de_ratio, ma50, ma200, rsi):\n",
    "    score = 0\n",
    "\n",
    "    # Fundamentals\n",
    "    if eps and eps > 0: score += 1\n",
    "    if pe_ratio and pe_ratio < 20: score += 1\n",
    "    if roe and roe > 0.15: score += 1\n",
    "    if de_ratio and de_ratio < 1: score += 1\n",
    "\n",
    "    # Technicals\n",
    "    if ma50 > ma200: score += 1\n",
    "    if rsi and rsi < 70 and rsi > 30: score += 1\n",
    "\n",
    "    # Final decision\n",
    "    if score >= 5:\n",
    "        return \" Strong Buy\"\n",
    "    elif score >= 3:\n",
    "        return \" Buy / Hold\"\n",
    "    else:\n",
    "        return \" Avoid / Weak\""
   ]
  },
  {
   "cell_type": "code",
   "execution_count": 12,
   "id": "c8f3ec41-cb72-4c7b-b55c-26d8f4a3638f",
   "metadata": {},
   "outputs": [
    {
     "name": "stdout",
     "output_type": "stream",
     "text": [
      "Final Recommendation:  Avoid / Weak\n"
     ]
    }
   ],
   "source": [
    "result = evaluate_stock(eps, pe_ratio, roe, de_ratio, data[\"MA50\"].iloc[-1], data[\"MA200\"].iloc[-1], data[\"RSI\"].iloc[-1])\n",
    "print(\"Final Recommendation:\", result)"
   ]
  }
 ],
 "metadata": {
  "kernelspec": {
   "display_name": "Python 3 (ipykernel)",
   "language": "python",
   "name": "python3"
  },
  "language_info": {
   "codemirror_mode": {
    "name": "ipython",
    "version": 3
   },
   "file_extension": ".py",
   "mimetype": "text/x-python",
   "name": "python",
   "nbconvert_exporter": "python",
   "pygments_lexer": "ipython3",
   "version": "3.12.7"
  }
 },
 "nbformat": 4,
 "nbformat_minor": 5
}
