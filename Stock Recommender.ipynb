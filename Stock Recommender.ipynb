{
 "cells": [
  {
   "cell_type": "code",
   "execution_count": 1,
   "id": "731b0acc-3d97-4e30-8bd8-9c433dcb6764",
   "metadata": {},
   "outputs": [
    {
     "name": "stdout",
     "output_type": "stream",
     "text": [
      "Requirement already satisfied: yfinance in c:\\users\\abali\\anaconda3\\lib\\site-packages (0.2.65)\n",
      "Requirement already satisfied: pandas>=1.3.0 in c:\\users\\abali\\anaconda3\\lib\\site-packages (from yfinance) (2.2.2)\n",
      "Requirement already satisfied: numpy>=1.16.5 in c:\\users\\abali\\anaconda3\\lib\\site-packages (from yfinance) (1.26.4)\n",
      "Requirement already satisfied: requests>=2.31 in c:\\users\\abali\\anaconda3\\lib\\site-packages (from yfinance) (2.32.3)\n",
      "Requirement already satisfied: multitasking>=0.0.7 in c:\\users\\abali\\anaconda3\\lib\\site-packages (from yfinance) (0.0.12)\n",
      "Requirement already satisfied: platformdirs>=2.0.0 in c:\\users\\abali\\anaconda3\\lib\\site-packages (from yfinance) (3.10.0)\n",
      "Requirement already satisfied: pytz>=2022.5 in c:\\users\\abali\\anaconda3\\lib\\site-packages (from yfinance) (2024.1)\n",
      "Requirement already satisfied: frozendict>=2.3.4 in c:\\users\\abali\\anaconda3\\lib\\site-packages (from yfinance) (2.4.2)\n",
      "Requirement already satisfied: peewee>=3.16.2 in c:\\users\\abali\\anaconda3\\lib\\site-packages (from yfinance) (3.18.2)\n",
      "Requirement already satisfied: beautifulsoup4>=4.11.1 in c:\\users\\abali\\anaconda3\\lib\\site-packages (from yfinance) (4.12.3)\n",
      "Requirement already satisfied: curl_cffi>=0.7 in c:\\users\\abali\\anaconda3\\lib\\site-packages (from yfinance) (0.13.0)\n",
      "Requirement already satisfied: protobuf>=3.19.0 in c:\\users\\abali\\anaconda3\\lib\\site-packages (from yfinance) (4.25.3)\n",
      "Requirement already satisfied: websockets>=13.0 in c:\\users\\abali\\anaconda3\\lib\\site-packages (from yfinance) (15.0.1)\n",
      "Requirement already satisfied: soupsieve>1.2 in c:\\users\\abali\\anaconda3\\lib\\site-packages (from beautifulsoup4>=4.11.1->yfinance) (2.5)\n",
      "Requirement already satisfied: cffi>=1.12.0 in c:\\users\\abali\\anaconda3\\lib\\site-packages (from curl_cffi>=0.7->yfinance) (1.17.1)\n",
      "Requirement already satisfied: certifi>=2024.2.2 in c:\\users\\abali\\anaconda3\\lib\\site-packages (from curl_cffi>=0.7->yfinance) (2025.4.26)\n",
      "Requirement already satisfied: python-dateutil>=2.8.2 in c:\\users\\abali\\anaconda3\\lib\\site-packages (from pandas>=1.3.0->yfinance) (2.9.0.post0)\n",
      "Requirement already satisfied: tzdata>=2022.7 in c:\\users\\abali\\anaconda3\\lib\\site-packages (from pandas>=1.3.0->yfinance) (2023.3)\n",
      "Requirement already satisfied: charset-normalizer<4,>=2 in c:\\users\\abali\\anaconda3\\lib\\site-packages (from requests>=2.31->yfinance) (3.3.2)\n",
      "Requirement already satisfied: idna<4,>=2.5 in c:\\users\\abali\\anaconda3\\lib\\site-packages (from requests>=2.31->yfinance) (3.7)\n",
      "Requirement already satisfied: urllib3<3,>=1.21.1 in c:\\users\\abali\\anaconda3\\lib\\site-packages (from requests>=2.31->yfinance) (2.2.3)\n",
      "Requirement already satisfied: pycparser in c:\\users\\abali\\anaconda3\\lib\\site-packages (from cffi>=1.12.0->curl_cffi>=0.7->yfinance) (2.21)\n",
      "Requirement already satisfied: six>=1.5 in c:\\users\\abali\\anaconda3\\lib\\site-packages (from python-dateutil>=2.8.2->pandas>=1.3.0->yfinance) (1.16.0)\n"
     ]
    }
   ],
   "source": [
    "!pip install yfinance"
   ]
  },
  {
   "cell_type": "code",
   "execution_count": 2,
   "id": "5be2871a-631f-486c-8457-203ef7eb7620",
   "metadata": {},
   "outputs": [],
   "source": [
    "import pandas as pd\n",
    "import yfinance as yf\n",
    "from datetime import datetime\n",
    "import matplotlib.pyplot as plt"
   ]
  },
  {
   "cell_type": "code",
   "execution_count": 3,
   "id": "9171a483-706b-4714-b35f-687c824c427f",
   "metadata": {},
   "outputs": [
    {
     "name": "stdin",
     "output_type": "stream",
     "text": [
      "Enter stock symbol (e.g., RELIANCE, TCS, INFY):  TCS\n",
      "Enter exchange (NS for NSE, BO for BSE):  NS\n",
      "Enter start date (YYYY-MM-DD):  2025-01-01\n"
     ]
    },
    {
     "name": "stderr",
     "output_type": "stream",
     "text": [
      "C:\\Users\\abali\\AppData\\Local\\Temp\\ipykernel_27652\\915661245.py:7: FutureWarning: YF.download() has changed argument auto_adjust default to True\n",
      "  data = yf.download(ticker, start=start_date, end=end_date)\n",
      "[*********************100%***********************]  1 of 1 completed\n"
     ]
    }
   ],
   "source": [
    "symbol = input(\"Enter stock symbol (e.g., RELIANCE, TCS, INFY): \").upper()\n",
    "exchange = input(\"Enter exchange (NS for NSE, BO for BSE): \").upper()\n",
    "ticker = f\"{symbol}.{exchange}\"\n",
    "\n",
    "start_date = input(\"Enter start date (YYYY-MM-DD): \")\n",
    "end_date = datetime.today().strftime('%Y-%m-%d')\n",
    "data = yf.download(ticker, start=start_date, end=end_date)"
   ]
  },
  {
   "cell_type": "code",
   "execution_count": 4,
   "id": "b0dd357a-4598-494b-bc14-2fea378e4053",
   "metadata": {},
   "outputs": [
    {
     "name": "stdout",
     "output_type": "stream",
     "text": [
      "\n",
      "Fundamental Metrics:\n",
      "EPS: 136.08\n",
      "P/E Ratio: 23.199589\n",
      "ROE: 0.51589\n",
      "Debt-to-Equity: 9.714\n"
     ]
    }
   ],
   "source": [
    "stock = yf.Ticker(ticker)\n",
    "\n",
    "# Fetch fundamentals\n",
    "eps = stock.info.get(\"trailingEps\", None)            # Earnings per Share\n",
    "pe_ratio = stock.info.get(\"trailingPE\", None)        # Price to Earnings ratio\n",
    "roe = stock.info.get(\"returnOnEquity\", None)         # Return on Equity (fraction, e.g., 0.18 = 18%)\n",
    "de_ratio = stock.info.get(\"debtToEquity\", None)      # Debt-to-Equity ratio\n",
    "\n",
    "print(\"\\nFundamental Metrics:\")\n",
    "print(f\"EPS: {eps}\")\n",
    "print(f\"P/E Ratio: {pe_ratio}\")\n",
    "print(f\"ROE: {roe}\")\n",
    "print(f\"Debt-to-Equity: {de_ratio}\")"
   ]
  },
  {
   "cell_type": "code",
   "execution_count": 5,
   "id": "33bc975f-e8b3-4bd1-b9c3-469fcc0abe2f",
   "metadata": {},
   "outputs": [
    {
     "name": "stdout",
     "output_type": "stream",
     "text": [
      "\n",
      "Latest Technical Indicators:\n",
      "50-day MA: 3215.3523193359374\n",
      "200-day MA: nan\n",
      "RSI: 63.896325095688894\n"
     ]
    }
   ],
   "source": [
    "# --- Moving Averages ---\n",
    "data[\"MA50\"] = data[\"Close\"].rolling(50).mean()\n",
    "data[\"MA200\"] = data[\"Close\"].rolling(200).mean()\n",
    "\n",
    "# --- RSI Calculation ---\n",
    "delta = data[\"Close\"].diff()\n",
    "gain = (delta.where(delta > 0, 0)).rolling(14).mean()\n",
    "loss = (-delta.where(delta < 0, 0)).rolling(14).mean()\n",
    "\n",
    "rs = gain / loss\n",
    "data[\"RSI\"] = 100 - (100 / (1 + rs))\n",
    "\n",
    "print(\"\\nLatest Technical Indicators:\")\n",
    "print(f\"50-day MA: {data['MA50'].iloc[-1]}\")\n",
    "print(f\"200-day MA: {data['MA200'].iloc[-1]}\")\n",
    "print(f\"RSI: {data['RSI'].iloc[-1]}\")"
   ]
  },
  {
   "cell_type": "code",
   "execution_count": 6,
   "id": "452e65f8-b1de-40e7-8118-ab27239530ee",
   "metadata": {},
   "outputs": [],
   "source": [
    "def evaluate_stock(eps, pe_ratio, roe, de_ratio, ma50, ma200, rsi):\n",
    "    score = 0\n",
    "\n",
    "    # Fundamentals\n",
    "    if eps and eps > 0: score += 1\n",
    "    if pe_ratio and pe_ratio < 20: score += 1\n",
    "    if roe and roe > 0.15: score += 1\n",
    "    if de_ratio and de_ratio < 1: score += 1\n",
    "\n",
    "    # Technicals\n",
    "    if ma50 > ma200: score += 1\n",
    "    if rsi and rsi < 70 and rsi > 30: score += 1\n",
    "\n",
    "    # Final decision\n",
    "    if score >= 5:\n",
    "        return \" Strong Buy\"\n",
    "    elif score >= 3:\n",
    "        return \" Buy / Hold\"\n",
    "    else:\n",
    "        return \" Avoid / Weak\""
   ]
  },
  {
   "cell_type": "code",
   "execution_count": 7,
   "id": "c8f3ec41-cb72-4c7b-b55c-26d8f4a3638f",
   "metadata": {},
   "outputs": [
    {
     "name": "stdout",
     "output_type": "stream",
     "text": [
      "Final Recommendation:  Buy / Hold\n"
     ]
    }
   ],
   "source": [
    "result = evaluate_stock(eps, pe_ratio, roe, de_ratio, data[\"MA50\"].iloc[-1], data[\"MA200\"].iloc[-1], data[\"RSI\"].iloc[-1])\n",
    "print(\"Final Recommendation:\", result)"
   ]
  }
 ],
 "metadata": {
  "kernelspec": {
   "display_name": "Python 3 (ipykernel)",
   "language": "python",
   "name": "python3"
  },
  "language_info": {
   "codemirror_mode": {
    "name": "ipython",
    "version": 3
   },
   "file_extension": ".py",
   "mimetype": "text/x-python",
   "name": "python",
   "nbconvert_exporter": "python",
   "pygments_lexer": "ipython3",
   "version": "3.12.7"
  }
 },
 "nbformat": 4,
 "nbformat_minor": 5
}
